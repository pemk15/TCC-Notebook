{
  "nbformat": 4,
  "nbformat_minor": 0,
  "metadata": {
    "colab": {
      "name": "CurrentInputData.ipynb",
      "provenance": [],
      "collapsed_sections": [
        "-TAZh8mkct1d",
        "qiVTvSkGuhpz",
        "YvhVioTgKbJD"
      ],
      "authorship_tag": "ABX9TyO3I/inLqUN4XGeYFuFaOAK"
    },
    "kernelspec": {
      "name": "python3",
      "display_name": "Python 3"
    },
    "language_info": {
      "name": "python"
    }
  },
  "cells": [
    {
      "cell_type": "markdown",
      "source": [
        "#Conexão com o drive para ter acesso as simulações."
      ],
      "metadata": {
        "id": "yaEREp2BcZ-Q"
      }
    },
    {
      "cell_type": "code",
      "execution_count": null,
      "metadata": {
        "id": "RWSJpsyKqHjH",
        "colab": {
          "base_uri": "https://localhost:8080/"
        },
        "outputId": "dbd80d5e-da60-482f-fca6-fc153ca53a63"
      },
      "outputs": [
        {
          "output_type": "stream",
          "name": "stdout",
          "text": [
            "Mounted at /content/drive\n",
            "Note: Using Google Colab\n"
          ]
        }
      ],
      "source": [
        "try:\n",
        "  from google.colab import drive\n",
        "  drive.mount('/content/drive', force_remount=True)\n",
        "  COLAB = True\n",
        "  print(\"Note: Using Google Colab\")\n",
        "except:\n",
        "  print(\"Note: not using Google Colab\")\n",
        "  COLAB = False"
      ]
    },
    {
      "cell_type": "code",
      "source": [
        "!ls /content/drive/MyDrive/ColabNotebooks/DATA/localizacao/corrente_bus_8/\n",
        "# Caso não funcione, executar código abaixo"
      ],
      "metadata": {
        "id": "fLM3oOYfj4WV",
        "colab": {
          "base_uri": "https://localhost:8080/"
        },
        "outputId": "a1461276-3f32-42eb-80ae-7bd7d9301d17"
      },
      "execution_count": null,
      "outputs": [
        {
          "output_type": "stream",
          "name": "stdout",
          "text": [
            "ABC.txt  AB.txt   AC.txt  BCG.txt  BG.txt\n",
            "ABG.txt  ACG.txt  AG.txt  BC.txt   CG.txt\n"
          ]
        }
      ]
    },
    {
      "cell_type": "markdown",
      "source": [
        "\n",
        "---\n",
        "#Importação de bibliotecas"
      ],
      "metadata": {
        "id": "-TAZh8mkct1d"
      }
    },
    {
      "cell_type": "code",
      "source": [
        "import pandas\n",
        "import numpy as np\n",
        "import os\n",
        "from sklearn.model_selection import train_test_split\n",
        "import scipy.stats as stats"
      ],
      "metadata": {
        "id": "wdjUq7jzU5fW"
      },
      "execution_count": null,
      "outputs": []
    },
    {
      "cell_type": "markdown",
      "source": [
        "---\n",
        "#Leitura de dados"
      ],
      "metadata": {
        "id": "ExMRwOa1jAnj"
      }
    },
    {
      "cell_type": "markdown",
      "source": [
        "###Bus 8"
      ],
      "metadata": {
        "id": "qiVTvSkGuhpz"
      }
    },
    {
      "cell_type": "code",
      "source": [
        "baseDir = '/content/drive/MyDrive/ColabNotebooks/DATA/localizacao/'\n",
        "subpasta = 'corrente_bus_8/'"
      ],
      "metadata": {
        "id": "iwTQfEjFMRv5"
      },
      "execution_count": null,
      "outputs": []
    },
    {
      "cell_type": "code",
      "source": [
        "ABC = pandas.read_csv(baseDir + subpasta + 'ABC.txt',\n",
        "                      header=None,\n",
        "                      delimiter=';',\n",
        "                      dtype=np.float64)\n",
        "ABC = pandas.DataFrame(ABC).to_numpy()"
      ],
      "metadata": {
        "id": "HLZkeVrMVdgJ"
      },
      "execution_count": null,
      "outputs": []
    },
    {
      "cell_type": "code",
      "source": [
        "ABG = pandas.read_csv(baseDir + subpasta + 'ABG.txt',\n",
        "                     header=None,\n",
        "                     delimiter=';')\n",
        "ABG = pandas.DataFrame(ABG).to_numpy()"
      ],
      "metadata": {
        "id": "E20vqBnHYxOq"
      },
      "execution_count": null,
      "outputs": []
    },
    {
      "cell_type": "code",
      "source": [
        "ACG = pandas.read_csv(baseDir + subpasta + 'ACG.txt',\n",
        "                     header=None,\n",
        "                     delimiter=';')\n",
        "ACG = pandas.DataFrame(ACG).to_numpy()"
      ],
      "metadata": {
        "id": "avRelqs1YxSy"
      },
      "execution_count": null,
      "outputs": []
    },
    {
      "cell_type": "code",
      "source": [
        "BCG = pandas.read_csv(baseDir + subpasta + 'BCG.txt',\n",
        "                     header=None,\n",
        "                     delimiter=';')\n",
        "BCG = pandas.DataFrame(BCG).to_numpy()"
      ],
      "metadata": {
        "id": "80z0Z1j5YxFT"
      },
      "execution_count": null,
      "outputs": []
    },
    {
      "cell_type": "code",
      "source": [
        "AG = pandas.read_csv(baseDir + subpasta + 'AG.txt',\n",
        "                     header=None,\n",
        "                     delimiter=';')\n",
        "AG = pandas.DataFrame(AG).to_numpy()"
      ],
      "metadata": {
        "id": "p_zxY1T8YxXh"
      },
      "execution_count": null,
      "outputs": []
    },
    {
      "cell_type": "code",
      "source": [
        "BG = pandas.read_csv(baseDir + subpasta + 'BG.txt',\n",
        "                     header=None,\n",
        "                     delimiter=';')\n",
        "BG = pandas.DataFrame(BG).to_numpy()"
      ],
      "metadata": {
        "id": "Io8qKC3eYxKe"
      },
      "execution_count": null,
      "outputs": []
    },
    {
      "cell_type": "code",
      "source": [
        "CG = pandas.read_csv(baseDir + subpasta + 'CG.txt',\n",
        "                     header=None,\n",
        "                     delimiter=';')\n",
        "CG = pandas.DataFrame(CG).to_numpy()"
      ],
      "metadata": {
        "id": "pjHL_ei2YxhC"
      },
      "execution_count": null,
      "outputs": []
    },
    {
      "cell_type": "code",
      "source": [
        "AB = pandas.read_csv(baseDir + subpasta + 'AB.txt',\n",
        "                     header=None,\n",
        "                     delimiter=';')\n",
        "AB = pandas.DataFrame(AB).to_numpy()"
      ],
      "metadata": {
        "id": "Bk6H7fxkWFDM"
      },
      "execution_count": null,
      "outputs": []
    },
    {
      "cell_type": "code",
      "source": [
        "AC = pandas.read_csv(baseDir + subpasta + 'AC.txt',\n",
        "                     header=None,\n",
        "                     delimiter=';')\n",
        "AC = pandas.DataFrame(AC).to_numpy()"
      ],
      "metadata": {
        "id": "A03uyBZ7Yw8O"
      },
      "execution_count": null,
      "outputs": []
    },
    {
      "cell_type": "code",
      "source": [
        "BC = pandas.read_csv(baseDir + subpasta + 'BC.txt',\n",
        "                     header=None,\n",
        "                     delimiter=';')\n",
        "BC = pandas.DataFrame(BC).to_numpy()"
      ],
      "metadata": {
        "id": "UWEIVGpBYxbz"
      },
      "execution_count": null,
      "outputs": []
    },
    {
      "cell_type": "markdown",
      "source": [
        "##Concat"
      ],
      "metadata": {
        "id": "njdO8_fRBLQs"
      }
    },
    {
      "cell_type": "code",
      "source": [
        "dados = np.concatenate([ABC, AB, AC, BCG, BG, ABG, ACG, AG, BC, CG])\n",
        "del(ABC, AB, AC, BCG, BG, ABG, ACG, AG, BC, CG)"
      ],
      "metadata": {
        "id": "UTfr-rGraO9u"
      },
      "execution_count": null,
      "outputs": []
    },
    {
      "cell_type": "markdown",
      "source": [
        "#Separação de classes e atributos"
      ],
      "metadata": {
        "id": "G-NjuxDSczpl"
      }
    },
    {
      "cell_type": "code",
      "source": [
        "classes = dados[:,0]\n",
        "atributos = dados[:, 1:]"
      ],
      "metadata": {
        "id": "rQs0Fzd-bXWr"
      },
      "execution_count": null,
      "outputs": []
    },
    {
      "cell_type": "code",
      "source": [
        "classes = classes/100"
      ],
      "metadata": {
        "id": "r0tWGy1JDQQ1"
      },
      "execution_count": null,
      "outputs": []
    },
    {
      "cell_type": "markdown",
      "source": [
        "#Transformação linear"
      ],
      "metadata": {
        "id": "YvhVioTgKbJD"
      }
    },
    {
      "cell_type": "markdown",
      "source": [
        "![image.png](data:image/png;base64,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)"
      ],
      "metadata": {
        "id": "NKfF0Go1JNWo"
      }
    },
    {
      "cell_type": "code",
      "source": [
        "min = np.min(classes)\n",
        "print(min)"
      ],
      "metadata": {
        "id": "_owdVnjnKhti",
        "colab": {
          "base_uri": "https://localhost:8080/"
        },
        "outputId": "964b6e8a-4d92-4076-a303-40d6f0ced54c"
      },
      "execution_count": null,
      "outputs": [
        {
          "output_type": "stream",
          "name": "stdout",
          "text": [
            "1.0\n"
          ]
        }
      ]
    },
    {
      "cell_type": "code",
      "source": [
        "max = np.max(classes)\n",
        "print(max)"
      ],
      "metadata": {
        "id": "SJqXzNryKimH",
        "colab": {
          "base_uri": "https://localhost:8080/"
        },
        "outputId": "6ff46a27-8ea6-437b-a3b4-eec8add214b5"
      },
      "execution_count": null,
      "outputs": [
        {
          "output_type": "stream",
          "name": "stdout",
          "text": [
            "100.0\n"
          ]
        }
      ]
    },
    {
      "cell_type": "code",
      "source": [
        "classes = 2*((classes-min)/(max-min))-1"
      ],
      "metadata": {
        "id": "q5gUYmNoJOxP"
      },
      "execution_count": null,
      "outputs": []
    },
    {
      "cell_type": "markdown",
      "source": [
        "##Caminho de volta\n",
        "![image.png](data:image/png;base64,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)"
      ],
      "metadata": {
        "id": "lZiCqW10LQ8d"
      }
    },
    {
      "cell_type": "markdown",
      "source": [
        "#Separação de fases"
      ],
      "metadata": {
        "id": "Bfl36Rs3nj9_"
      }
    },
    {
      "cell_type": "code",
      "source": [
        "  #parâmetros\n",
        "  taxa_amostragem = 10000\n",
        "  frequencia_sistema = 60\n",
        "  ciclos_pos_falta = 2\n",
        "  numero_amostras_ciclo = round(taxa_amostragem / frequencia_sistema)\n",
        "  dados_por_fase = numero_amostras_ciclo*ciclos_pos_falta"
      ],
      "metadata": {
        "id": "-y7TtnY_iXr7"
      },
      "execution_count": null,
      "outputs": []
    },
    {
      "cell_type": "markdown",
      "source": [
        "#Separação de teste e treino"
      ],
      "metadata": {
        "id": "iNRgXqoTH73g"
      }
    },
    {
      "cell_type": "code",
      "source": [
        "#divide os dados em conjuntos de treinamento (50% dos dados), validação (25% dos dados) e teste (25% dos dados)\n",
        "X_train, X_validation, y_train, y_validation = train_test_split(atributos, classes, test_size=0.4, random_state=42, shuffle=True)\n",
        "X_validation, X_test, y_validation, y_test = train_test_split(X_validation, y_validation, test_size=0.5, random_state=42, shuffle=True)"
      ],
      "metadata": {
        "id": "UDczcc0icwGr"
      },
      "execution_count": null,
      "outputs": []
    },
    {
      "cell_type": "markdown",
      "source": [
        "#Alteração para o formato de entrada"
      ],
      "metadata": {
        "id": "PYbm-97MIOeN"
      }
    },
    {
      "cell_type": "code",
      "source": [
        "X_train = X_train.reshape(X_train.shape[0], 3, dados_por_fase)\n",
        "X_validation = X_validation.reshape(X_validation.shape[0], 3, dados_por_fase)\n",
        "X_test = X_test.reshape(X_test.shape[0], 3, dados_por_fase)"
      ],
      "metadata": {
        "id": "QVLpB7rwepsE"
      },
      "execution_count": null,
      "outputs": []
    },
    {
      "cell_type": "markdown",
      "source": [
        "#Normalização dos dados de entrada"
      ],
      "metadata": {
        "id": "9IDb2Xz11uSD"
      }
    },
    {
      "cell_type": "code",
      "source": [
        "X_train = stats.zscore(X_train, axis=1)\n",
        "X_validation = stats.zscore(X_validation, axis=1)\n",
        "X_test = stats.zscore(X_test, axis=1)"
      ],
      "metadata": {
        "id": "0UyQqPjLzTpk"
      },
      "execution_count": null,
      "outputs": []
    },
    {
      "cell_type": "markdown",
      "source": [
        "#Export"
      ],
      "metadata": {
        "id": "9CQ_RLY9jMez"
      }
    },
    {
      "cell_type": "code",
      "source": [
        "y_train"
      ],
      "metadata": {
        "colab": {
          "base_uri": "https://localhost:8080/"
        },
        "id": "2Gkm-NsQ43ht",
        "outputId": "fc1e208e-e6b2-47df-830b-baa855392307"
      },
      "execution_count": null,
      "outputs": [
        {
          "output_type": "execute_result",
          "data": {
            "text/plain": [
              "array([0.58, 0.04, 0.38, ..., 0.39, 0.08, 0.62])"
            ]
          },
          "metadata": {},
          "execution_count": 22
        }
      ]
    },
    {
      "cell_type": "code",
      "source": [
        "os.remove(baseDir + '/y_train')\n",
        "os.remove(baseDir + '/y_validation')\n",
        "os.remove(baseDir + '/y_test')\n",
        "y_train.tofile(baseDir + '/y_train', sep='', format='%s')\n",
        "y_validation.tofile(baseDir + '/y_validation', sep='', format='%s')\n",
        "y_test.tofile(baseDir + '/y_test', sep='', format='%s')"
      ],
      "metadata": {
        "id": "3J-3DmYImSIF"
      },
      "execution_count": null,
      "outputs": []
    },
    {
      "cell_type": "code",
      "source": [
        "os.remove(baseDir + '/X_train')\n",
        "os.remove(baseDir + '/X_validation')\n",
        "os.remove(baseDir + '/X_test')\n",
        "X_train.tofile(baseDir + '/X_train', sep='', format='%s')\n",
        "X_validation.tofile(baseDir + '/X_validation', sep='', format='%s')\n",
        "X_test.tofile(baseDir + '/X_test', sep='', format='%s')"
      ],
      "metadata": {
        "id": "3zNTaTrXfgx3"
      },
      "execution_count": null,
      "outputs": []
    },
    {
      "cell_type": "code",
      "source": [
        "X_train.shape"
      ],
      "metadata": {
        "id": "NiukIMCDdoQA",
        "outputId": "e4ab6dd9-aed4-4124-e6e1-a00fdfbbf15c",
        "colab": {
          "base_uri": "https://localhost:8080/"
        }
      },
      "execution_count": null,
      "outputs": [
        {
          "output_type": "execute_result",
          "data": {
            "text/plain": [
              "(100800, 3, 334)"
            ]
          },
          "metadata": {},
          "execution_count": 25
        }
      ]
    }
  ]
}