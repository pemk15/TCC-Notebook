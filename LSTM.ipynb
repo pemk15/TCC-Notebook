{
  "cells": [
    {
      "cell_type": "markdown",
      "metadata": {
        "id": "LKntdybanpTb"
      },
      "source": [
        "#Cheatcode"
      ]
    },
    {
      "cell_type": "markdown",
      "metadata": {
        "id": "BcYoXNltxH7n"
      },
      "source": [
        "## Colar no console JS como medida paliativa para desconexão por inatividade\n",
        "\n",
        "```\n",
        "function ConnectButton(){\n",
        "    console.log(\"Connect pushed\"); \n",
        "    document.querySelector(\"#top-toolbar > colab-connect-button\").shadowRoot.querySelector(\"#connect\").click() \n",
        "}\n",
        "\n",
        "var colab = setInterval(ConnectButton,60000);\n",
        "```\n",
        "\n"
      ]
    },
    {
      "cell_type": "markdown",
      "metadata": {
        "id": "yaEREp2BcZ-Q"
      },
      "source": [
        "#Conexão com o drive para ter acesso as simulações."
      ]
    },
    {
      "cell_type": "code",
      "execution_count": null,
      "metadata": {
        "colab": {
          "base_uri": "https://localhost:8080/"
        },
        "id": "RWSJpsyKqHjH",
        "outputId": "fb421dc9-2a00-44be-d4b2-84a37836b202"
      },
      "outputs": [
        {
          "output_type": "stream",
          "name": "stdout",
          "text": [
            "Mounted at /content/drive\n",
            "Note: Using Google Colab\n"
          ]
        }
      ],
      "source": [
        "try:\n",
        "  from google.colab import drive\n",
        "  drive.mount('/content/drive', force_remount=True)\n",
        "  COLAB = True\n",
        "  print(\"Note: Using Google Colab\")\n",
        "except:\n",
        "  print(\"Note: not using Google Colab\")\n",
        "  COLAB = False"
      ]
    },
    {
      "cell_type": "markdown",
      "metadata": {
        "id": "-TAZh8mkct1d"
      },
      "source": [
        "\n",
        "---\n",
        "#Importação de bibliotecas"
      ]
    },
    {
      "cell_type": "code",
      "execution_count": null,
      "metadata": {
        "id": "wdjUq7jzU5fW"
      },
      "outputs": [],
      "source": [
        "import pandas\n",
        "import numpy as np\n",
        "import os\n",
        "import keras\n",
        "\n",
        "#Visualização\n",
        "import matplotlib.pyplot as plt\n",
        "import seaborn as sns\n",
        "%matplotlib inline\n",
        "\n",
        "from sklearn.metrics import mean_squared_error, max_error, mean_absolute_error\n",
        "\n",
        "#RNN's\n",
        "from tensorflow.keras.models import Sequential\n",
        "from tensorflow.keras.layers import Dense, LSTM, GRU, Dropout\n",
        "from tensorflow.keras.callbacks import ModelCheckpoint"
      ]
    },
    {
      "cell_type": "markdown",
      "metadata": {
        "id": "Bfl36Rs3nj9_"
      },
      "source": [
        "#Separação de fases"
      ]
    },
    {
      "cell_type": "code",
      "execution_count": null,
      "metadata": {
        "id": "-y7TtnY_iXr7"
      },
      "outputs": [],
      "source": [
        "  #parâmetros\n",
        "  taxa_amostragem = 10000\n",
        "  frequencia_sistema = 60\n",
        "  ciclos_pos_falta = 2\n",
        "  numero_amostras_ciclo = round(taxa_amostragem / frequencia_sistema)\n",
        "  dados_por_fase = numero_amostras_ciclo*ciclos_pos_falta"
      ]
    },
    {
      "cell_type": "markdown",
      "metadata": {
        "id": "TozihTvUjAZQ"
      },
      "source": [
        "#Load data"
      ]
    },
    {
      "cell_type": "code",
      "execution_count": null,
      "metadata": {
        "id": "FCm4vS4RmANp"
      },
      "outputs": [],
      "source": [
        "baseDir = '/content/drive/MyDrive/ColabNotebooks/DATA/localizacao/'"
      ]
    },
    {
      "cell_type": "code",
      "execution_count": null,
      "metadata": {
        "id": "mP84sc0gDa2Z"
      },
      "outputs": [],
      "source": [
        "X_train = np.fromfile(baseDir + 'X_train', dtype=float, count=-1, sep='', offset=0).reshape(100800, 3, dados_por_fase)\n",
        "X_validation = np.fromfile(baseDir + 'X_validation', dtype=float, count=-1, sep='', offset=0).reshape(33600, 3, dados_por_fase)"
      ]
    },
    {
      "cell_type": "code",
      "execution_count": null,
      "metadata": {
        "id": "QCq37sQBnZog"
      },
      "outputs": [],
      "source": [
        "X_train_t = np.fromfile(baseDir + 'X_train_t', dtype=float, count=-1, sep='', offset=0).reshape(100800, 3, dados_por_fase)\n",
        "X_validation_t = np.fromfile(baseDir + 'X_validation_t', dtype=float, count=-1, sep='', offset=0).reshape(33600, 3, dados_por_fase)"
      ]
    },
    {
      "cell_type": "code",
      "execution_count": null,
      "metadata": {
        "id": "2Q-FXePolBrV"
      },
      "outputs": [],
      "source": [
        "y_train = np.fromfile(baseDir + 'y_train', dtype=float, count=-1, sep='', offset=0)\n",
        "y_validation =  np.fromfile(baseDir + 'y_validation', dtype=float, count=-1, sep='', offset=0)"
      ]
    },
    {
      "cell_type": "markdown",
      "metadata": {
        "id": "9wYdj4Hq347I"
      },
      "source": [
        "#Criação do modelo"
      ]
    },
    {
      "cell_type": "markdown",
      "metadata": {
        "id": "gHs2n5b8zhKm"
      },
      "source": [
        "##*Long-Short Term Memory*"
      ]
    },
    {
      "cell_type": "code",
      "execution_count": null,
      "metadata": {
        "id": "2iL4NfkNdCKz"
      },
      "outputs": [],
      "source": [
        "def lstm():\n",
        "  model = Sequential()\n",
        "\n",
        "  model.add(LSTM(1000,\n",
        "                return_sequences=True,\n",
        "                input_shape=(X_train.shape[1]*2, dados_por_fase)))\n",
        "\n",
        "  model.add(LSTM(1000,\n",
        "            return_sequences=True))\n",
        "  \n",
        "  model.add(LSTM(1000))\n",
        "  \n",
        "  model.add(Dense(1))\n",
        "  model.compile(loss='mean_squared_error',\n",
        "                optimizer='adam',\n",
        "                metrics=['mean_squared_error'])\n",
        "\n",
        "  return model"
      ]
    },
    {
      "cell_type": "markdown",
      "metadata": {
        "id": "64c-Hb3A0GD9"
      },
      "source": [
        "##Sumário"
      ]
    },
    {
      "cell_type": "code",
      "execution_count": null,
      "metadata": {
        "colab": {
          "base_uri": "https://localhost:8080/"
        },
        "id": "WXhyFEAgdXmh",
        "outputId": "d779be0a-cc8e-453b-ef9f-ed69ee3de24a"
      },
      "outputs": [
        {
          "output_type": "stream",
          "name": "stdout",
          "text": [
            "Model: \"sequential\"\n",
            "_________________________________________________________________\n",
            " Layer (type)                Output Shape              Param #   \n",
            "=================================================================\n",
            " lstm (LSTM)                 (None, 6, 1000)           5340000   \n",
            "                                                                 \n",
            " lstm_1 (LSTM)               (None, 6, 1000)           8004000   \n",
            "                                                                 \n",
            " lstm_2 (LSTM)               (None, 1000)              8004000   \n",
            "                                                                 \n",
            " dense (Dense)               (None, 1)                 1001      \n",
            "                                                                 \n",
            "=================================================================\n",
            "Total params: 21,349,001\n",
            "Trainable params: 21,349,001\n",
            "Non-trainable params: 0\n",
            "_________________________________________________________________\n"
          ]
        }
      ],
      "source": [
        "if 'lstmModel' in globals():\n",
        "  del(lstmModel)\n",
        "lstmModel = lstm()\n",
        "lstmModel.summary()"
      ]
    },
    {
      "cell_type": "markdown",
      "metadata": {
        "id": "C-m48sUgIROY"
      },
      "source": [
        "#Treinamento LSTM"
      ]
    },
    {
      "cell_type": "markdown",
      "metadata": {
        "id": "f68HZ4ynNWDX"
      },
      "source": [
        "##Callbacks"
      ]
    },
    {
      "cell_type": "code",
      "execution_count": null,
      "metadata": {
        "colab": {
          "base_uri": "https://localhost:8080/"
        },
        "id": "IFl_UkwzirVU",
        "outputId": "8178c1db-fa4d-4e85-cd58-1faf50734935"
      },
      "outputs": [
        {
          "output_type": "stream",
          "name": "stdout",
          "text": [
            "WARNING:tensorflow:`period` argument is deprecated. Please use `save_freq` to specify the frequency in number of batches seen.\n"
          ]
        }
      ],
      "source": [
        "log_directory = '/content/drive/MyDrive/ColabNotebooks/Models'\n",
        " \n",
        "checkpoint = ModelCheckpoint(log_directory + '/' + 'lstm_tmp_1.hdf5',\n",
        "                             monitor='val_mean_squared_error',\n",
        "                             verbose=1,\n",
        "                             save_best_only=True,\n",
        "                             mode='auto',\n",
        "                             period=1)"
      ]
    },
    {
      "cell_type": "markdown",
      "metadata": {
        "id": "cjN4Sx7GqZ2M"
      },
      "source": [
        "##Alteração para o formato de entrada"
      ]
    },
    {
      "cell_type": "code",
      "execution_count": null,
      "metadata": {
        "id": "NrrrVq0bpM5F"
      },
      "outputs": [],
      "source": [
        "X_train_aux = np.hstack((X_train, X_train_t))\n",
        "del(X_train, X_train_t)\n",
        "X_validation_aux = np.hstack((X_validation, X_validation_t))\n",
        "del(X_validation, X_validation_t)"
      ]
    },
    {
      "cell_type": "markdown",
      "metadata": {
        "id": "MWiie4itHXyh"
      },
      "source": [
        "##Treinamento"
      ]
    },
    {
      "cell_type": "code",
      "execution_count": null,
      "metadata": {
        "id": "kUMOSRS6YNQI"
      },
      "outputs": [],
      "source": [
        "lstmModel.fit(X_train_aux,\n",
        "              y_train,\n",
        "              epochs=5000,\n",
        "              batch_size=1680,\n",
        "              verbose=1,\n",
        "              callbacks=[checkpoint],\n",
        "              validation_data=(X_validation_aux, y_validation)\n",
        "              )"
      ]
    },
    {
      "cell_type": "markdown",
      "metadata": {
        "id": "r1_Cxd7MiCCU"
      },
      "source": [
        "## Avaliando o Modelo"
      ]
    },
    {
      "cell_type": "code",
      "execution_count": null,
      "metadata": {
        "id": "wksIcKYjpkcJ"
      },
      "outputs": [],
      "source": [
        "losses = pandas.DataFrame(lstmModel.history.history)"
      ]
    },
    {
      "cell_type": "code",
      "execution_count": null,
      "metadata": {
        "id": "kfbbgm-FZM15"
      },
      "outputs": [],
      "source": [
        "losses[['loss','val_loss']][-300:].plot(figsize=(70,30))"
      ]
    },
    {
      "cell_type": "code",
      "execution_count": null,
      "metadata": {
        "id": "CYEUlNn7Gqs_"
      },
      "outputs": [],
      "source": [
        "losses[['mean_squared_error','val_mean_squared_error']].plot(figsize=(70,30))"
      ]
    }
  ],
  "metadata": {
    "accelerator": "GPU",
    "colab": {
      "collapsed_sections": [
        "yaEREp2BcZ-Q",
        "-TAZh8mkct1d",
        "Bfl36Rs3nj9_",
        "gHs2n5b8zhKm",
        "f68HZ4ynNWDX",
        "cjN4Sx7GqZ2M",
        "r1_Cxd7MiCCU"
      ],
      "name": "LSTM.ipynb",
      "provenance": [],
      "authorship_tag": "ABX9TyNpzIbhZBWEPwOVyZIkmR25"
    },
    "kernelspec": {
      "display_name": "Python 3",
      "name": "python3"
    },
    "language_info": {
      "name": "python"
    }
  },
  "nbformat": 4,
  "nbformat_minor": 0
}