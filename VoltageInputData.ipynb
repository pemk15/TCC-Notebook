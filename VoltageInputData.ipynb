{
  "nbformat": 4,
  "nbformat_minor": 0,
  "metadata": {
    "colab": {
      "name": "VoltageInputData .ipynb",
      "provenance": [],
      "collapsed_sections": [
        "yaEREp2BcZ-Q",
        "-TAZh8mkct1d",
        "ExMRwOa1jAnj",
        "njdO8_fRBLQs",
        "G-NjuxDSczpl",
        "Bfl36Rs3nj9_",
        "iNRgXqoTH73g",
        "PYbm-97MIOeN",
        "9CQ_RLY9jMez"
      ],
      "authorship_tag": "ABX9TyP3ZTI8nQPZBbiZAg1uWd5d"
    },
    "kernelspec": {
      "name": "python3",
      "display_name": "Python 3"
    },
    "language_info": {
      "name": "python"
    }
  },
  "cells": [
    {
      "cell_type": "markdown",
      "source": [
        "#Conexão com o drive para ter acesso as simulações."
      ],
      "metadata": {
        "id": "yaEREp2BcZ-Q"
      }
    },
    {
      "cell_type": "code",
      "execution_count": null,
      "metadata": {
        "id": "RWSJpsyKqHjH",
        "colab": {
          "base_uri": "https://localhost:8080/"
        },
        "outputId": "b9fea407-00fc-4b80-c490-72f66860aae3"
      },
      "outputs": [
        {
          "output_type": "stream",
          "name": "stdout",
          "text": [
            "Mounted at /content/drive\n",
            "Note: Using Google Colab\n"
          ]
        }
      ],
      "source": [
        "try:\n",
        "  from google.colab import drive\n",
        "  drive.mount('/content/drive', force_remount=True)\n",
        "  COLAB = True\n",
        "  print(\"Note: Using Google Colab\")\n",
        "except:\n",
        "  print(\"Note: not using Google Colab\")\n",
        "  COLAB = False"
      ]
    },
    {
      "cell_type": "code",
      "source": [
        "!ls /content/drive/MyDrive/ColabNotebooks/DATA/localizacao/tensao_bus_8/\n",
        "# Caso não funcione, executar código abaixo"
      ],
      "metadata": {
        "id": "fLM3oOYfj4WV",
        "colab": {
          "base_uri": "https://localhost:8080/"
        },
        "outputId": "36ad1f4d-4ec0-4435-e8cd-7370c7c1a1fe"
      },
      "execution_count": null,
      "outputs": [
        {
          "output_type": "stream",
          "name": "stdout",
          "text": [
            "ABC.txt  AB.txt   AC.txt  BCG.txt  BG.txt\n",
            "ABG.txt  ACG.txt  AG.txt  BC.txt   CG.txt\n"
          ]
        }
      ]
    },
    {
      "cell_type": "markdown",
      "source": [
        "\n",
        "---\n",
        "#Importação de bibliotecas"
      ],
      "metadata": {
        "id": "-TAZh8mkct1d"
      }
    },
    {
      "cell_type": "code",
      "source": [
        "import pandas\n",
        "import numpy as np\n",
        "import os\n",
        "from sklearn.model_selection import train_test_split\n",
        "import scipy.stats as stats"
      ],
      "metadata": {
        "id": "wdjUq7jzU5fW"
      },
      "execution_count": null,
      "outputs": []
    },
    {
      "cell_type": "markdown",
      "source": [
        "---\n",
        "#Leitura de dados"
      ],
      "metadata": {
        "id": "ExMRwOa1jAnj"
      }
    },
    {
      "cell_type": "markdown",
      "source": [
        "###Bus 8"
      ],
      "metadata": {
        "id": "qiVTvSkGuhpz"
      }
    },
    {
      "cell_type": "code",
      "source": [
        "baseDir = '/content/drive/MyDrive/ColabNotebooks/DATA/localizacao/'\n",
        "subpasta = 'tensao_bus_8/'"
      ],
      "metadata": {
        "id": "iwTQfEjFMRv5"
      },
      "execution_count": null,
      "outputs": []
    },
    {
      "cell_type": "code",
      "source": [
        "ABC = pandas.read_csv(baseDir + subpasta + 'ABC.txt',\n",
        "                      header=None,\n",
        "                      delimiter=';',\n",
        "                      dtype=np.float64)\n",
        "ABC = pandas.DataFrame(ABC).to_numpy()"
      ],
      "metadata": {
        "id": "HLZkeVrMVdgJ"
      },
      "execution_count": null,
      "outputs": []
    },
    {
      "cell_type": "code",
      "source": [
        "ABG = pandas.read_csv(baseDir + subpasta + 'ABG.txt',\n",
        "                     header=None,\n",
        "                     delimiter=';')\n",
        "ABG = pandas.DataFrame(ABG).to_numpy()"
      ],
      "metadata": {
        "id": "E20vqBnHYxOq"
      },
      "execution_count": null,
      "outputs": []
    },
    {
      "cell_type": "code",
      "source": [
        "ACG = pandas.read_csv(baseDir + subpasta + 'ACG.txt',\n",
        "                     header=None,\n",
        "                     delimiter=';')\n",
        "ACG = pandas.DataFrame(ACG).to_numpy()"
      ],
      "metadata": {
        "id": "avRelqs1YxSy"
      },
      "execution_count": null,
      "outputs": []
    },
    {
      "cell_type": "code",
      "source": [
        "BCG = pandas.read_csv(baseDir + subpasta + 'BCG.txt',\n",
        "                     header=None,\n",
        "                     delimiter=';')\n",
        "BCG = pandas.DataFrame(BCG).to_numpy()"
      ],
      "metadata": {
        "id": "80z0Z1j5YxFT"
      },
      "execution_count": null,
      "outputs": []
    },
    {
      "cell_type": "code",
      "source": [
        "AG = pandas.read_csv(baseDir + subpasta + 'AG.txt',\n",
        "                     header=None,\n",
        "                     delimiter=';')\n",
        "AG = pandas.DataFrame(AG).to_numpy()"
      ],
      "metadata": {
        "id": "p_zxY1T8YxXh"
      },
      "execution_count": null,
      "outputs": []
    },
    {
      "cell_type": "code",
      "source": [
        "BG = pandas.read_csv(baseDir + subpasta + 'BG.txt',\n",
        "                     header=None,\n",
        "                     delimiter=';')\n",
        "BG = pandas.DataFrame(BG).to_numpy()"
      ],
      "metadata": {
        "id": "Io8qKC3eYxKe"
      },
      "execution_count": null,
      "outputs": []
    },
    {
      "cell_type": "code",
      "source": [
        "CG = pandas.read_csv(baseDir + subpasta + 'CG.txt',\n",
        "                     header=None,\n",
        "                     delimiter=';')\n",
        "CG = pandas.DataFrame(CG).to_numpy()"
      ],
      "metadata": {
        "id": "pjHL_ei2YxhC"
      },
      "execution_count": null,
      "outputs": []
    },
    {
      "cell_type": "code",
      "source": [
        "AB = pandas.read_csv(baseDir + subpasta + 'AB.txt',\n",
        "                     header=None,\n",
        "                     delimiter=';')\n",
        "AB = pandas.DataFrame(AB).to_numpy()"
      ],
      "metadata": {
        "id": "Bk6H7fxkWFDM"
      },
      "execution_count": null,
      "outputs": []
    },
    {
      "cell_type": "code",
      "source": [
        "AC = pandas.read_csv(baseDir + subpasta + 'AC.txt',\n",
        "                     header=None,\n",
        "                     delimiter=';')\n",
        "AC = pandas.DataFrame(AC).to_numpy()"
      ],
      "metadata": {
        "id": "A03uyBZ7Yw8O"
      },
      "execution_count": null,
      "outputs": []
    },
    {
      "cell_type": "code",
      "source": [
        "BC = pandas.read_csv(baseDir + subpasta + 'BC.txt',\n",
        "                     header=None,\n",
        "                     delimiter=';')\n",
        "BC = pandas.DataFrame(BC).to_numpy()"
      ],
      "metadata": {
        "id": "UWEIVGpBYxbz"
      },
      "execution_count": null,
      "outputs": []
    },
    {
      "cell_type": "markdown",
      "source": [
        "##Concat"
      ],
      "metadata": {
        "id": "njdO8_fRBLQs"
      }
    },
    {
      "cell_type": "code",
      "source": [
        "dados = np.concatenate([ABC, AB, AC, BCG, BG, ABG, ACG, AG, BC, CG])\n",
        "del(ABC, AB, AC, BCG, BG, ABG, ACG, AG, BC, CG)"
      ],
      "metadata": {
        "id": "UTfr-rGraO9u"
      },
      "execution_count": null,
      "outputs": []
    },
    {
      "cell_type": "markdown",
      "source": [
        "#Separação de classes e atributos"
      ],
      "metadata": {
        "id": "G-NjuxDSczpl"
      }
    },
    {
      "cell_type": "code",
      "source": [
        "classes = dados[:,0]\n",
        "atributos = dados[:, 1:]"
      ],
      "metadata": {
        "id": "rQs0Fzd-bXWr"
      },
      "execution_count": null,
      "outputs": []
    },
    {
      "cell_type": "markdown",
      "source": [
        "#Separação de fases"
      ],
      "metadata": {
        "id": "Bfl36Rs3nj9_"
      }
    },
    {
      "cell_type": "code",
      "source": [
        "  #parâmetros\n",
        "  taxa_amostragem = 10000\n",
        "  frequencia_sistema = 60\n",
        "  ciclos_pos_falta = 2\n",
        "  numero_amostras_ciclo = round(taxa_amostragem / frequencia_sistema)\n",
        "  dados_por_fase = numero_amostras_ciclo*ciclos_pos_falta"
      ],
      "metadata": {
        "id": "-y7TtnY_iXr7"
      },
      "execution_count": null,
      "outputs": []
    },
    {
      "cell_type": "markdown",
      "source": [
        "#Separação de teste e treino"
      ],
      "metadata": {
        "id": "iNRgXqoTH73g"
      }
    },
    {
      "cell_type": "code",
      "source": [
        "#divide os dados em conjuntos de treinamento (50% dos dados), validação (25% dos dados) e teste (25% dos dados)\n",
        "X_train, X_validation, y_train, y_validation = train_test_split(atributos, classes, test_size=0.4, random_state=42, shuffle=True)\n",
        "X_validation, X_test, y_validation, y_test = train_test_split(X_validation, y_validation, test_size=0.5, random_state=42, shuffle=True)"
      ],
      "metadata": {
        "id": "UDczcc0icwGr"
      },
      "execution_count": null,
      "outputs": []
    },
    {
      "cell_type": "markdown",
      "source": [
        "#Alteração para o formato de entrada"
      ],
      "metadata": {
        "id": "PYbm-97MIOeN"
      }
    },
    {
      "cell_type": "code",
      "source": [
        "X_train = X_train.reshape(X_train.shape[0], 3, dados_por_fase)\n",
        "X_validation = X_validation.reshape(X_validation.shape[0], 3, dados_por_fase)\n",
        "X_test = X_test.reshape(X_test.shape[0], 3, dados_por_fase)"
      ],
      "metadata": {
        "id": "QVLpB7rwepsE"
      },
      "execution_count": null,
      "outputs": []
    },
    {
      "cell_type": "markdown",
      "source": [
        "#Normalização dos dados de entrada"
      ],
      "metadata": {
        "id": "9IDb2Xz11uSD"
      }
    },
    {
      "cell_type": "code",
      "source": [
        "X_train = stats.zscore(X_train, axis=1)\n",
        "X_validation = stats.zscore(X_validation, axis=1)\n",
        "X_test = stats.zscore(X_test, axis=1)"
      ],
      "metadata": {
        "id": "0UyQqPjLzTpk"
      },
      "execution_count": null,
      "outputs": []
    },
    {
      "cell_type": "markdown",
      "source": [
        "#Export"
      ],
      "metadata": {
        "id": "9CQ_RLY9jMez"
      }
    },
    {
      "cell_type": "code",
      "source": [
        "os.remove(baseDir + '/X_train_t')\n",
        "os.remove(baseDir + '/X_validation_t')\n",
        "os.remove(baseDir + '/X_test_t')\n",
        "X_train.tofile(baseDir + '/X_train_t', sep='', format='%s')\n",
        "X_validation.tofile(baseDir + '/X_validation_t', sep='', format='%s')\n",
        "X_test.tofile(baseDir + '/X_test_t', sep='', format='%s')"
      ],
      "metadata": {
        "id": "3zNTaTrXfgx3"
      },
      "execution_count": null,
      "outputs": []
    },
    {
      "cell_type": "code",
      "source": [
        "print(X_train.shape)\n",
        "print(X_test.shape)"
      ],
      "metadata": {
        "colab": {
          "base_uri": "https://localhost:8080/"
        },
        "id": "VhfIP7zW2L-M",
        "outputId": "a3d8ec87-f0b3-43a6-a051-883aebd002a6"
      },
      "execution_count": null,
      "outputs": [
        {
          "output_type": "stream",
          "name": "stdout",
          "text": [
            "(100800, 3, 334)\n",
            "(33600, 3, 334)\n"
          ]
        }
      ]
    }
  ]
}